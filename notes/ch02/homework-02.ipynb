{
 "cells": [
  {
   "cell_type": "markdown",
   "metadata": {},
   "source": [
    "# Homwork 2\n",
    "**Name:**  [edit cell and put your name here]\n"
   ]
  },
  {
   "cell_type": "code",
   "execution_count": null,
   "metadata": {
    "jupyter": {
     "outputs_hidden": false
    }
   },
   "outputs": [],
   "source": [
    "%pylab inline\n",
    "from __future__ import print_function, division"
   ]
  },
  {
   "cell_type": "markdown",
   "metadata": {},
   "source": [
    "# Using this notebook\n",
    "As a reminder, this is a Jupyter notebook, you cannot edit the version you see online in the `git` repo.\n",
    "You must _use git_ to checkout the repo, and then use `jupyter notebook` to edit your local copy of this. You are encouraged to _fork_ my repo so you save and track your own changes. "
   ]
  },
  {
   "cell_type": "markdown",
   "metadata": {},
   "source": [
    "## Instructions\n",
    "* You _may_ submit very neatly organized _**handwritten**_ math, or you may do the math in the cells of this notebook using $\\LaTeX$. With $\\LaTeX$, you may follow the example in this cell, or you can put `%%latex` at the top of any cell.  \n",
    "* In the last problem set most submissions were clear and reasonablypresented, but I have my preferences for what I like to see from students. In particular, I am a big fan of the 3-column `align` environment, with the last column used as an explanation. In particular, this:\n",
    " $$ E(\\mathbf{w}) \n",
    "   = \\sum_{n=1}^N \\{y(x_n |\\mathbf{w}) - t_n\\}^2\n",
    "   = \\sum_{n=1}^N \\left\\{\\sum_{j=0}^M x_n^jw_j - t_n\\right\\}^2 \\\\\n",
    "   \\frac{\\partial}{\\partial w_i} E(\\mathbf{w}) \n",
    "   = \\sum_{n=1}^N \\left\\{\\sum_{j=0}^M x_n^jw_j - t_n\\right\\}x_n^i \n",
    "   = \\sum_{n=1}^N \\sum_{j=0}^M x_n^jx_n^iw_j - \\sum_{n=1}^N t_n x^i \n",
    "   = \\sum_{j=0}^M \\underbrace{\\left\\{\\sum_{n=1}^N x_n^{j+i}\\right\\}}_{A_{ij}}w_j - \\underbrace{\\sum_{n=1}^N t_n x^i}_{T_i} $$\n",
    "\n",
    " is quite hard for me to follow, even if it is correct.  A **better** answer (for homework, not for formal papers) uses the `align` environment:\n",
    "\n",
    " > [Explaining the idea, that we want the gradient to be zero, etc]\n",
    " > $$ \n",
    " \\begin{align}\n",
    " E(\\mathbf{w}) \n",
    " &= \\sum_{n=1}^N \\{y(x_n |\\mathbf{w}) - t_n\\}^2  & \\text{by dfn. (1.1) of PRML}  \\\\\n",
    " &= \\sum_{n=1}^N \\left\\{\\sum_{j=0}^M x_n^jw_j - t_n\\right\\}^2 & \\text{subst. (1.2) into (1.1)} \\hspace{1em}\\\\\n",
    " \\end{align} \n",
    " $$\n",
    " > [Explain that we want $\\frac{\\partial}{\\partial w_i} E = 0, \\forall i$]\n",
    " > $$ \n",
    " \\begin{align}\n",
    " \\frac{\\partial}{\\partial w_i} E(\\mathbf{w})  \n",
    " &= \\sum_{n=1}^N \\left\\{\\sum_{j=0}^M x_n^jw_j - t_n\\right\\}x_n^i   & \\text{applying the chain rule [details..]}  \\\\ \n",
    " &= \\sum_{n=1}^N \\sum_{j=0}^M x_n^jx_n^iw_j - \\sum_{n=1}^N t_n x^i & \\text{distributing $x_n^i$, and $\\sum$.. 2 steps would be better} \\\\\n",
    " &= \\sum_{j=0}^M \\underbrace{\\left\\{\\sum_{n=1}^N x_n^{j+i}\\right\\}}_{A_{ij}}w_j - \\underbrace{\\sum_{n=1}^N t_nx^i}_{T_i}  & \\text{add terms in a different order, group $x^ix^j=x^{i+j}$} \\\\\n",
    " &=0 \\implies \\sum_{j=0}^M A_{ij}w_j = T_i \\\\\n",
    " \\end{align} \n",
    " $$\n",
    " >Q.E.D\n",
    " \n",
    " The key difference is that the latter one is:\n",
    "  * A step-by-step process that proceeds from what is given, $E(\\mathbf{w})$, to what we aim to show, $\\sum_{j=0}^M A_{ij}w_j = T_i \\implies \\mathbf{w}=\\mathbf{w}^*$.\n",
    "  * The rationale behind each step is explained, in one of two ways;\n",
    "    *  as a comment in the right margin letting me know why the step is valid\n",
    "    *  or as plain-old-english (POE) explaining the intent of a set of steps, _before_ those steps are carried out. \n",
    "  \n",
    "> **NOTE:** You may edit this cell to peak at the $\\LaTeX$ I used to type out my answers. In its final form the $\\LaTeX$ can seem intimidating, but most of it is copy-paste-modify for each step. "
   ]
  },
  {
   "cell_type": "markdown",
   "metadata": {},
   "source": [
    "## Problems"
   ]
  },
  {
   "cell_type": "markdown",
   "metadata": {},
   "source": [
    "1\\. _[4 pts]_ Do question 2.57 of PRML. \n",
    "* For practice, try to solve 2.56 first (do not submit your answers to that one).\n",
    "* _ **2.57(\\*)**  Verify that the multivariate gaussian distributions ca be cast in exponential family form (2.194) and derive expressions for $\\boldsymbol{\\eta}$, $\\mathbf{u}(\\mathbf{x})$, $h(\\mathbf{x})$, and $g(\\boldsymbol{\\eta})$ analogous to (2.220)-(2.223)_"
   ]
  },
  {
   "cell_type": "code",
   "execution_count": null,
   "metadata": {
    "jupyter": {
     "outputs_hidden": true
    }
   },
   "outputs": [],
   "source": []
  },
  {
   "cell_type": "markdown",
   "metadata": {},
   "source": [
    " 2\\. _[4 pts]_ Reproduce figure 2.8. \n",
    " * Your Gaussian's do not have to be identical, but the covariance matrices should be \n",
    "     (a) general [not diagonal or isometric], \n",
    "     (b) diagonal, and \n",
    "     (c) proportional to the identity matrix. "
   ]
  },
  {
   "cell_type": "code",
   "execution_count": null,
   "metadata": {
    "jupyter": {
     "outputs_hidden": true
    }
   },
   "outputs": [],
   "source": []
  },
  {
   "cell_type": "markdown",
   "metadata": {},
   "source": [
    "3\\.  _[4 points]_ Reproduce figure 2.21. \n",
    "* The _old faithful_ data is describe in appendix A, you should be able to download it and open it.\n",
    "* You can (and, for now, you should) use a function from `sklearn` in order to fit a mixture of Gaussians to your data. I beleive you can find what you need [here](http://scikit-learn.org/stable/modules/mixture.html)"
   ]
  },
  {
   "cell_type": "markdown",
   "metadata": {},
   "source": [
    "**NOTE:** In order to help you out, I will get you started by downloading the data and plotting it"
   ]
  },
  {
   "cell_type": "code",
   "execution_count": null,
   "metadata": {
    "jupyter": {
     "outputs_hidden": true
    }
   },
   "outputs": [],
   "source": [
    "# Download the data\n",
    "from urllib2 import urlopen "
   ]
  },
  {
   "cell_type": "code",
   "execution_count": null,
   "metadata": {
    "jupyter": {
     "outputs_hidden": false
    }
   },
   "outputs": [],
   "source": [
    "# Download the data\n",
    "from urllib2 import urlopen\n",
    "path = 'faithful.txt'\n",
    "remote = urlopen('https://raw.githubusercontent.com/aidiary/PRML/master/ch9/faithful.txt')\n",
    "with open('faithful.txt', 'w') as f:\n",
    "    f.write(remote.read())"
   ]
  },
  {
   "cell_type": "code",
   "execution_count": null,
   "metadata": {
    "jupyter": {
     "outputs_hidden": false
    }
   },
   "outputs": [],
   "source": [
    "# Read it in and inspect it\n",
    "import pandas\n",
    "from IPython.display import display\n",
    "old_faithful = pandas.read_csv(path, sep=' ', names=['duration', 'time-to-next'])\n",
    "display(old_faithful)"
   ]
  },
  {
   "cell_type": "code",
   "execution_count": null,
   "metadata": {
    "jupyter": {
     "outputs_hidden": false
    }
   },
   "outputs": [],
   "source": [
    "# Plot the data --> note that I convert from a DataFrame to an array \n",
    "data = array(old_faithful)\n",
    "scatter(data[:,0], data[:,1], color='lightgreen')"
   ]
  },
  {
   "cell_type": "code",
   "execution_count": null,
   "metadata": {
    "jupyter": {
     "outputs_hidden": false
    }
   },
   "outputs": [],
   "source": [
    "%%r"
   ]
  },
  {
   "cell_type": "code",
   "execution_count": null,
   "metadata": {
    "jupyter": {
     "outputs_hidden": true
    }
   },
   "outputs": [],
   "source": []
  }
 ],
 "metadata": {
  "kernelspec": {
   "display_name": "cse627",
   "language": "python",
   "name": "cse627"
  },
  "language_info": {
   "codemirror_mode": {
    "name": "ipython",
    "version": 3
   },
   "file_extension": ".py",
   "mimetype": "text/x-python",
   "name": "python",
   "nbconvert_exporter": "python",
   "pygments_lexer": "ipython3",
   "version": "3.8.5"
  }
 },
 "nbformat": 4,
 "nbformat_minor": 4
}
