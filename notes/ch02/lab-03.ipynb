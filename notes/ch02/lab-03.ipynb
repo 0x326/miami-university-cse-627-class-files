{
 "cells": [
  {
   "cell_type": "code",
   "execution_count": null,
   "metadata": {},
   "outputs": [],
   "source": [
    "%pylab notebook"
   ]
  },
  {
   "cell_type": "markdown",
   "metadata": {},
   "source": [
    "# Lab 3"
   ]
  },
  {
   "cell_type": "markdown",
   "metadata": {},
   "source": [
    "Today the lab is a bit more sparse on explanation, but I think it would be nice to drill down into gaussian mixture modeling. "
   ]
  },
  {
   "cell_type": "markdown",
   "metadata": {},
   "source": [
    "Let's start with the old faithful data you used in your homework:"
   ]
  },
  {
   "cell_type": "code",
   "execution_count": null,
   "metadata": {},
   "outputs": [],
   "source": [
    "from urllib2 import urlopen\n",
    "path = 'faithful.txt'\n",
    "remote = urlopen('https://raw.githubusercontent.com/aidiary/PRML/master/ch9/faithful.txt')\n",
    "with open('faithful.txt', 'w') as f:\n",
    "    f.write(remote.read())"
   ]
  },
  {
   "cell_type": "code",
   "execution_count": null,
   "metadata": {},
   "outputs": [],
   "source": [
    "import pandas\n",
    "df = pandas.read_csv(path, sep=' ', names=['x_1', 'x_2'])\n",
    "\n",
    "x1 = df.loc[:,'x_1'].as_matrix()\n",
    "x2 = df.loc[:,'x_2'].as_matrix()\n",
    "\n",
    "\n",
    "figure()\n",
    "scatter(x1, x2)\n",
    "xlabel(r'$x_1$')\n",
    "ylabel(r'$x_2$')\n",
    "show()"
   ]
  },
  {
   "cell_type": "markdown",
   "metadata": {},
   "source": [
    "Let's start with a marginal distribution"
   ]
  },
  {
   "cell_type": "code",
   "execution_count": null,
   "metadata": {},
   "outputs": [],
   "source": [
    "figure()\n",
    "hist(x1, bins=50)\n",
    "show()"
   ]
  },
  {
   "cell_type": "markdown",
   "metadata": {},
   "source": [
    "This look's like maybe it is two Gaussians; let's focus on the one on the right. "
   ]
  },
  {
   "cell_type": "code",
   "execution_count": null,
   "metadata": {},
   "outputs": [],
   "source": [
    "threshold = 3.25\n",
    "x_r = x1[x1 > threshold]\n",
    "\n",
    "figure()\n",
    "hist(x_r, bins=20)\n",
    "show()"
   ]
  },
  {
   "cell_type": "code",
   "execution_count": null,
   "metadata": {},
   "outputs": [],
   "source": [
    "freqs, edges = histogram(x_r, bins=20)\n",
    "centers = (edges[:-1]+edges[1:])/2.\n",
    "\n",
    "# This will be drawn on the figure above\n",
    "vlines(centers, 0, freqs)\n",
    "scatter(centers, freqs, color='lightgreen', zorder=2)\n",
    "show()"
   ]
  },
  {
   "cell_type": "markdown",
   "metadata": {},
   "source": [
    "# Challenge\n",
    "Find the covariance an mean given `freqs` and `centers` only. \n",
    "Note that the input it not _samples_, it is a _sample value_ followed by a sample _wieight_"
   ]
  },
  {
   "cell_type": "code",
   "execution_count": null,
   "metadata": {},
   "outputs": [],
   "source": [
    "def weighted_gaussian_fit(x, w):\n",
    "    n = len(x)\n",
    "    assert len(w) == n\n",
    "    var = 1\n",
    "    mu = 0\n",
    "    #TODO\n",
    "    return (mu, var)"
   ]
  },
  {
   "cell_type": "markdown",
   "metadata": {},
   "source": [
    "The next cell lets you visualize the results. "
   ]
  },
  {
   "cell_type": "code",
   "execution_count": null,
   "metadata": {},
   "outputs": [],
   "source": [
    "mu, var = weighted_gaussian_fit(centers, freqs)\n",
    "\n",
    "x_fit = linspace(x_r.min(), x_r.max(), 100)\n",
    "y_fit = (1./sqrt(2*pi*var))*exp(-((x_fit-mu)**2)/(2*var))\n",
    "\n",
    "fig = figure()\n",
    "hist(x_r, bins=20, color='grey', zorder=1)\n",
    "xlabel(r'$x_r$')\n",
    "ylabel(r'freq($x_r$)')\n",
    "\n",
    "twinx()\n",
    "ylabel('$N(x_r|\\mu,\\sigma^2)$')\n",
    "tick_params('y', colors='blue')\n",
    "plot(x_fit, y_fit, color='blue', zorder=2)\n",
    "tight_layout()\n",
    "show()"
   ]
  },
  {
   "cell_type": "markdown",
   "metadata": {},
   "source": [
    "# Challenge\n",
    "Now, let's extend that to a multivariate (2D) gaussian"
   ]
  },
  {
   "cell_type": "code",
   "execution_count": null,
   "metadata": {},
   "outputs": [],
   "source": [
    "x1_r = x_r\n",
    "x2_r = x2[x1 > threshold ]"
   ]
  },
  {
   "cell_type": "code",
   "execution_count": null,
   "metadata": {},
   "outputs": [],
   "source": [
    "from mpl_toolkits.mplot3d import Axes3D"
   ]
  },
  {
   "cell_type": "code",
   "execution_count": null,
   "metadata": {},
   "outputs": [],
   "source": [
    "figure()\n",
    "hist2d(x1_r, x2_r, bins=(15, 15), cmap=cm.gray)\n",
    "scatter(x1_r, x2_r, edgecolor='blue', facecolor='white')\n",
    "show()"
   ]
  },
  {
   "cell_type": "code",
   "execution_count": null,
   "metadata": {},
   "outputs": [],
   "source": [
    "freqs, x1_edges, x2_edges = histogram2d(x1_r, x2_r, bins=(15, 15))\n",
    "x1_centers = (x1_edges[:-1] + x1_edges[1:])/2.\n",
    "x2_centers = (x2_edges[:-1] + x2_edges[1:])/2."
   ]
  },
  {
   "cell_type": "code",
   "execution_count": null,
   "metadata": {},
   "outputs": [],
   "source": [
    "x1_centers, x2_centers= meshgrid((x1_edges[:-1] + x1_edges[1:])/2., \n",
    "                                 (x2_edges[:-1] + x2_edges[1:])/2.)\n",
    "x_centers = column_stack([x1_centers.flat, x2_centers.flat])\n",
    "freqs = freqs.flatten()"
   ]
  },
  {
   "cell_type": "markdown",
   "metadata": {},
   "source": [
    "Let's verify that we have coordinate pairs $(x_1, x_2)$ and frequencies aligned properly by visualizing the weighted points as circles of different sizes. "
   ]
  },
  {
   "cell_type": "code",
   "execution_count": null,
   "metadata": {},
   "outputs": [],
   "source": [
    "figure()\n",
    "scatter(x_centers[:,0], x_centers[:,1], s=1+20*freqs)\n",
    "show()"
   ]
  },
  {
   "cell_type": "markdown",
   "metadata": {},
   "source": [
    "Now, the challenge is to find the **2D** gaussian function that is most likely. "
   ]
  },
  {
   "cell_type": "code",
   "execution_count": null,
   "metadata": {},
   "outputs": [],
   "source": [
    "def weighted_mv_guassian_fit(x, w):\n",
    "    n, m = x.shape\n",
    "    assert w.shape == [n]\n",
    "    cov = zeros(m, m)\n",
    "    mu = zeros(m)\n",
    "    #TODO\n",
    "    return (mu, cov)"
   ]
  },
  {
   "cell_type": "markdown",
   "metadata": {},
   "source": [
    "# Challengs multiple 1D Gaussians\n",
    "Returning to the original data, we thought that $x_1$  may have been a mixture of two gaussians."
   ]
  },
  {
   "cell_type": "markdown",
   "metadata": {},
   "source": [
    "Later, we may discuss Gaussian mixture models in more depth (PRML Ch. 9). "
   ]
  },
  {
   "cell_type": "markdown",
   "metadata": {},
   "source": [
    "For now, I will introduce a simple _K means_ algorithm, with pseudocode:\n",
    "\n",
    "<img src=\"http://stanford.edu/~cpiech/cs221/img/kmeansMath.png\"></img>\n",
    "\n",
    "This algorithm solves _only_ for the means of a set of Gaussian's, and it assumes that they all have the same variance. "
   ]
  },
  {
   "cell_type": "code",
   "execution_count": null,
   "metadata": {},
   "outputs": [],
   "source": [
    "def kmeans(x, k):\n",
    "    # This algorithm iteratively reduces the negative log likelihood\n",
    "    # It stops when two iterations result in the same cluster assignments \n",
    "    converged = False\n",
    "    \n",
    "    # Select `k` initial 'mus', e.g. using np.random.choice?\n",
    "    mus = x[random.choice(len(x), k)]\n",
    "    \n",
    "    while not converged:\n",
    "    \n",
    "        #TODO: Calculate the cluster assignments (e.g. using numpy operations and np.argmax)\n",
    "        prob_x_given_mu = random.rand(len(x), k) #TODO (what I have here is not right)\n",
    "        clusters = argmax(prob_x_given_mu, axis=1)\n",
    "        \n",
    "        old_mus = mus # TODO  (this is not the right thing to do....)\n",
    "        #TODO: Update the cluster centers (new_mus)\n",
    "        \n",
    "        converged = all(old_mus == mus)\n",
    "        \n",
    "        yield mus, clusters"
   ]
  },
  {
   "cell_type": "code",
   "execution_count": null,
   "metadata": {},
   "outputs": [],
   "source": [
    "process = kmeans(x1, 2)"
   ]
  },
  {
   "cell_type": "markdown",
   "metadata": {},
   "source": [
    "If you keep evaluating the next cell, you will move through the algorithm one iteration at a time. "
   ]
  },
  {
   "cell_type": "code",
   "execution_count": null,
   "metadata": {},
   "outputs": [],
   "source": [
    "# The plot will look incorrect until you fix the code above\n",
    "figure()\n",
    "\n",
    "mus, clusters = process.next()\n",
    "\n",
    "x1_range = (x1.min(), x1.max())\n",
    "hist(x1[clusters==0], bins=50, range=x1_range, color='red')\n",
    "hist(x1[clusters==1], bins=50, range=x1_range, color='green')\n",
    "vlines(mus, 0, freqs.max())"
   ]
  },
  {
   "cell_type": "markdown",
   "metadata": {},
   "source": [
    "# More of the Same Challenge...\n",
    "If you implemented the code above _just_ right (or if you edit it a bit), then it will work on multidimensional data as well. \n",
    "Give it a try:"
   ]
  },
  {
   "cell_type": "code",
   "execution_count": null,
   "metadata": {},
   "outputs": [],
   "source": [
    "process = kmeans(column_stack([x1, x2]), 2)"
   ]
  },
  {
   "cell_type": "code",
   "execution_count": null,
   "metadata": {},
   "outputs": [],
   "source": [
    "figure()\n",
    "\n",
    "mus, clusters = process.next()\n",
    "\n",
    "scatter(x1[clusters==0], x2[clusters==0], color='red', s=5)\n",
    "scatter(x1[clusters==1], x2[clusters==1], color='green', s=5)\n",
    "scatter(mus[:,0], mus[:,1], color='blue', zorder=3)\n",
    "text(mus[0,0], mus[0,1], '  $\\mu_1$',  bbox=dict(lw=0, facecolor='white', alpha=0.5), zorder=2)\n",
    "text(mus[1,0], mus[1,1], '  $\\mu_2$',  bbox=dict(lw=0, facecolor='white', alpha=0.5), zorder=2)\n",
    "show()"
   ]
  },
  {
   "cell_type": "code",
   "execution_count": null,
   "metadata": {},
   "outputs": [],
   "source": []
  }
 ],
 "metadata": {
  "kernelspec": {
   "display_name": "Python [default]",
   "language": "python",
   "name": "python2"
  },
  "language_info": {
   "codemirror_mode": {
    "name": "ipython",
    "version": 2
   },
   "file_extension": ".py",
   "mimetype": "text/x-python",
   "name": "python",
   "nbconvert_exporter": "python",
   "pygments_lexer": "ipython2",
   "version": "2.7.13"
  }
 },
 "nbformat": 4,
 "nbformat_minor": 2
}
