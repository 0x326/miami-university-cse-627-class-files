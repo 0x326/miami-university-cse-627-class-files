{
 "cells": [
  {
   "cell_type": "markdown",
   "metadata": {
    "slideshow": {
     "slide_type": "slide"
    }
   },
   "source": [
    "# Chapter 3: Linear Models for Regression\n",
    "\n",
    "- Linear Basis Function Models\n",
    "    - A first glance at gradient descent\n",
    "- Bias-Variance Decomposition\n",
    "- Bayesian Model Comparison\n",
    "- <strike> The Evidence Approximation </strike>\n",
    "- <strike> Limitations of Fixed Basis Functions </strike>"
   ]
  },
  {
   "cell_type": "code",
   "execution_count": null,
   "metadata": {
    "slideshow": {
     "slide_type": "skip"
    }
   },
   "outputs": [],
   "source": [
    "%pylab inline"
   ]
  },
  {
   "cell_type": "markdown",
   "metadata": {
    "slideshow": {
     "slide_type": "slide"
    }
   },
   "source": [
    "# 3.1: Linear Basis Function Models\n",
    "\n"
   ]
  },
  {
   "cell_type": "code",
   "execution_count": null,
   "metadata": {},
   "outputs": [],
   "source": [
    "import scipy.stats\n",
    "\n",
    "def gaussian_basis(loc, scale):\n",
    "    return scipy.stats.norm(loc, scale).pdf\n",
    "\n",
    "def plotf(f, xmin, xmax, steps=100):\n",
    "    x = linspace(xmin, xmax, steps)\n",
    "    y = [f(x_i) for x_i in x]\n",
    "    plot(x, y)\n",
    "\n",
    "basis_functions = [gaussian_basis(loc, .1) for loc in linspace(0, 1, 10)]\n",
    "    \n",
    "for i in range(10):\n",
    "    plotf(basis_functions[i], 0, 1)"
   ]
  },
  {
   "cell_type": "code",
   "execution_count": null,
   "metadata": {},
   "outputs": [],
   "source": [
    "class TrainingData(object):\n",
    "    def __init__(self, beta=0.3**-1):\n",
    "        self.beta = beta\n",
    "        self.data = linspace(0, 1, 10)\n",
    "        self.targets = array([self.sample(x_i) for x_i in self.data])\n",
    "        self.N = len(self.data)\n",
    "\n",
    "    def sample(self, x):\n",
    "        return sin(2*pi*x) + normal(scale=self.beta**-1)\n",
    "\n",
    "training = TrainingData()"
   ]
  },
  {
   "cell_type": "code",
   "execution_count": null,
   "metadata": {},
   "outputs": [],
   "source": [
    "plotf(lambda x:sin(2*pi*x), 0, 1, 100)\n",
    "scatter(training.data, training.targets);"
   ]
  },
  {
   "cell_type": "code",
   "execution_count": null,
   "metadata": {},
   "outputs": [],
   "source": [
    "M = len(basis_functions)\n",
    "N = training.N\n",
    "Phi = zeros((N, M))\n",
    "for i in range(N):\n",
    "    for j in range(M):\n",
    "        Phi[i,j] = basis_functions[i](training.data[j])\n",
    "print Phi.round(2)\n",
    "imshow(Phi);"
   ]
  },
  {
   "cell_type": "code",
   "execution_count": null,
   "metadata": {},
   "outputs": [],
   "source": [
    "w = solve(Phi.T.dot(Phi), Phi.T.dot(training.targets))\n",
    "w.round(2)"
   ]
  },
  {
   "cell_type": "code",
   "execution_count": null,
   "metadata": {},
   "outputs": [],
   "source": [
    "plotf(lambda x:sin(2*pi*x), 0, 1, 100)\n",
    "scatter(training.data, training.targets);\n",
    "\n",
    "class \n",
    "\n",
    "plot(linspace(0,1,10), Phi.dot(w))"
   ]
  },
  {
   "cell_type": "code",
   "execution_count": null,
   "metadata": {},
   "outputs": [],
   "source": []
  }
 ],
 "metadata": {
  "celltoolbar": "Slideshow",
  "kernelspec": {
   "display_name": "Python [conda env:ml]",
   "language": "python",
   "name": "conda-env-ml-py"
  },
  "language_info": {
   "codemirror_mode": {
    "name": "ipython",
    "version": 2
   },
   "file_extension": ".py",
   "mimetype": "text/x-python",
   "name": "python",
   "nbconvert_exporter": "python",
   "pygments_lexer": "ipython2",
   "version": "2.7.13"
  }
 },
 "nbformat": 4,
 "nbformat_minor": 2
}
