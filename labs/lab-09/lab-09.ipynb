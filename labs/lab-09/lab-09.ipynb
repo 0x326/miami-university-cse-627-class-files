{
 "cells": [
  {
   "cell_type": "markdown",
   "metadata": {},
   "source": [
    "# Lab\n",
    "\n",
    "Apologies; this one is hastily constructed."
   ]
  },
  {
   "cell_type": "code",
   "execution_count": null,
   "metadata": {},
   "outputs": [],
   "source": [
    "%pylab inline"
   ]
  },
  {
   "cell_type": "code",
   "execution_count": null,
   "metadata": {},
   "outputs": [],
   "source": [
    "from sklearn.datasets import fetch_lfw_people"
   ]
  },
  {
   "cell_type": "markdown",
   "metadata": {},
   "source": [
    "The faces dataset seems to require the python image library (PIL). Before executing this cell you may need to go to a terminal and type:\n",
    "```python\n",
    "conda install PILL -y\n",
    "```"
   ]
  },
  {
   "cell_type": "code",
   "execution_count": null,
   "metadata": {},
   "outputs": [],
   "source": [
    "faces = fetch_lfw_people()"
   ]
  },
  {
   "cell_type": "code",
   "execution_count": null,
   "metadata": {},
   "outputs": [],
   "source": [
    "faces.images.shape"
   ]
  },
  {
   "cell_type": "markdown",
   "metadata": {},
   "source": [
    "## Let's preprocess using PCA (this is eigenfaces!)"
   ]
  },
  {
   "cell_type": "code",
   "execution_count": null,
   "metadata": {},
   "outputs": [],
   "source": [
    "N, H, W = faces.images.shape\n",
    "shuffled = arange(len(faces.images))\n",
    "shuffle(shuffled)\n",
    "validation_set = shuffled[:100]; shuffled = shuffled[100:]\n",
    "test_set = shuffled[:100]; shuffled = shuffled[100:]\n",
    "train_set = shuffled"
   ]
  },
  {
   "cell_type": "code",
   "execution_count": null,
   "metadata": {},
   "outputs": [],
   "source": [
    "def show_images(images, names, rows, cols):\n",
    "    for i in range(rows*cols):\n",
    "        subplot(rows, cols, i+1)\n",
    "        imshow(images[i], cmap=cm.gray)\n",
    "        xticks([])\n",
    "        yticks([])\n",
    "        xlabel(names[i])\n",
    "        \n",
    "figure(figsize=(10,6))        \n",
    "show_images(faces.images[validation_set], \n",
    "            faces.target_names[faces.target[validation_set]],\n",
    "            3, 5)\n",
    "        "
   ]
  },
  {
   "cell_type": "code",
   "execution_count": null,
   "metadata": {},
   "outputs": [],
   "source": [
    "print N / len(faces.target_names)"
   ]
  },
  {
   "cell_type": "code",
   "execution_count": null,
   "metadata": {},
   "outputs": [],
   "source": [
    "mu = zeros(W*H)\n",
    "cov = zeros((W*H, W*H))\n",
    "for i in range(len(validation_set)):\n",
    "    im = faces.images[validation_set[i]]\n",
    "    x = im.flatten()\n",
    "    cov += outer(x,x)\n",
    "    mu += x\n",
    "    print '\\r{:3} of {}'.format(i+1, len(validation_set)),\n",
    "mu /= len(validation_set)\n",
    "cov /= len(validation_set)\n",
    "cov -= outer(mu, mu)"
   ]
  },
  {
   "cell_type": "code",
   "execution_count": null,
   "metadata": {},
   "outputs": [],
   "source": [
    "variances, components = eigh(cov)\n",
    "variances = variances[::-1]\n",
    "components = components.T[::-1]"
   ]
  },
  {
   "cell_type": "code",
   "execution_count": null,
   "metadata": {},
   "outputs": [],
   "source": [
    "total = sum(variances)\n",
    "cumvariance = cumsum(variances)/total\n",
    "threshold = int(argwhere(cumvariance >= 0.95)[0])\n",
    "\n",
    "plot(cumvariance)\n",
    "hlines(0.95, 0, len(variances))\n",
    "vlines(threshold, 0, 1)\n",
    "xlim(0,  len(validation_set))\n",
    "ylim(0,1)\n",
    "yticks([0, .95, 1])\n",
    "xticks([0, threshold, len(validation_set)]);"
   ]
  },
  {
   "cell_type": "code",
   "execution_count": null,
   "metadata": {},
   "outputs": [],
   "source": [
    "component_images = reshape(components[:threshold, ...], (threshold, H, W))\n",
    "mean_image = reshape(mu, (H, W))"
   ]
  },
  {
   "cell_type": "markdown",
   "metadata": {},
   "source": [
    "## An interesting experiment\n",
    "An interesting experiment showed that people generally consider the 'mean' face more attractive than any individual face, is that true here?"
   ]
  },
  {
   "cell_type": "code",
   "execution_count": null,
   "metadata": {},
   "outputs": [],
   "source": [
    "fig = figure(figsize=(10,6))        \n",
    "show_images([mean_image] + list(component_images), ['mean'] + range(len(component_images)), 3, 5)  "
   ]
  },
  {
   "cell_type": "code",
   "execution_count": null,
   "metadata": {},
   "outputs": [],
   "source": [
    "def transform(image):\n",
    "    x = image.flatten()\n",
    "    y = components[:threshold].dot(x - mu)/sqrt(variances[:threshold])\n",
    "    return y\n",
    "\n",
    "def untransform(y):\n",
    "    x = components[:threshold].T.dot(y*sqrt(variances[:threshold])) + mu\n",
    "    return x.reshape(H, W)"
   ]
  },
  {
   "cell_type": "code",
   "execution_count": null,
   "metadata": {},
   "outputs": [],
   "source": [
    "test_index = random.choice(test_set)\n",
    "test_image = faces.images[test_index]\n",
    "test_target = faces.target[test_index]\n",
    "\n",
    "y = transform(test_image)\n",
    "\n",
    "print \"The compressed image is {} numbers\".format(len(y))\n",
    "\n",
    "ax = axes([0, 0, 1, 1])\n",
    "bar(arange(len(y)), y, align='edge');\n",
    "ylim(-max(abs(y)), max(abs(y)))\n",
    "xticks([0, 58])\n",
    "grid()\n",
    "\n",
    "ax = axes([0.75, 0.75, 0.2, 0.2])\n",
    "imshow(test_image, cmap=cm.gray);"
   ]
  },
  {
   "cell_type": "code",
   "execution_count": null,
   "metadata": {},
   "outputs": [],
   "source": [
    "reconstructed_image = untransform(y)\n",
    "\n",
    "subplot(121)\n",
    "imshow(test_image, cmap=cm.gray)\n",
    "xticks([]); yticks([]); xlabel('original')\n",
    "\n",
    "subplot(122)\n",
    "imshow(reconstructed_image, cmap=cm.gray)\n",
    "xticks([]); yticks([]); xlabel('reconstructed');"
   ]
  },
  {
   "cell_type": "markdown",
   "metadata": {},
   "source": [
    "## Nearest Neighbor"
   ]
  },
  {
   "cell_type": "code",
   "execution_count": null,
   "metadata": {},
   "outputs": [],
   "source": [
    "# \"training\" a nearest neighbor classifier\n",
    "examples = np.zeros( (len(train_set), threshold) )\n",
    "for i in range(len(train_set)):\n",
    "    print \"\\r{:5} of {}\".format(i+1, len(train_set)),\n",
    "    x = faces.images[train_set[i]]\n",
    "    y = transform(x)\n",
    "    examples[i,:] = y"
   ]
  },
  {
   "cell_type": "code",
   "execution_count": null,
   "metadata": {},
   "outputs": [],
   "source": [
    "import heapq\n",
    "\n",
    "def guess_name(image):\n",
    "    y = transform(image)\n",
    "    matches = heapq.nsmallest(5, zip(train_set, examples), lambda item: np.linalg.norm(y - item[1]) )\n",
    "    results = [index for index, _ in matches]\n",
    "    return results\n",
    "        "
   ]
  },
  {
   "cell_type": "code",
   "execution_count": null,
   "metadata": {},
   "outputs": [],
   "source": [
    "# Many faces only occur once; I want ones that are in there twice..\n",
    "train_targets = set(faces.target[train_set])\n",
    "\n",
    "for t in random.choice(test_set, len(test_set)):\n",
    "    if faces.target[t] in train_targets:\n",
    "        test_index = t"
   ]
  },
  {
   "cell_type": "code",
   "execution_count": null,
   "metadata": {},
   "outputs": [],
   "source": [
    "#test_index = random.choice(test_set)\n",
    "test_image = faces.images[test_index]\n",
    "test_target = faces.target[test_index]\n",
    "\n",
    "print \"Actual name:\", faces.target_names[test_target]\n",
    "print \"Guesses:\"\n",
    "guesses = guess_name(test_image)\n",
    "for guess in guesses:\n",
    "    print \"   \", faces.target_names[faces.target[guess]]"
   ]
  },
  {
   "cell_type": "code",
   "execution_count": null,
   "metadata": {},
   "outputs": [],
   "source": [
    "images = [faces.images[idx] for idx in [test_index] + guesses]\n",
    "labels = ['{}:{}'.format(idx, faces.target_names[faces.target[idx]]) for idx in [test_index] + guesses]\n",
    "labels[0] = 'true:'+labels[0]\n",
    "show_images(images, labels, 2, 3)"
   ]
  },
  {
   "cell_type": "code",
   "execution_count": null,
   "metadata": {},
   "outputs": [],
   "source": [
    "matches = argwhere(faces.target == faces.target[8966])"
   ]
  },
  {
   "cell_type": "code",
   "execution_count": null,
   "metadata": {},
   "outputs": [],
   "source": []
  }
 ],
 "metadata": {
  "kernelspec": {
   "display_name": "Python [conda env:ml]",
   "language": "python",
   "name": "conda-env-ml-py"
  },
  "language_info": {
   "codemirror_mode": {
    "name": "ipython",
    "version": 2
   },
   "file_extension": ".py",
   "mimetype": "text/x-python",
   "name": "python",
   "nbconvert_exporter": "python",
   "pygments_lexer": "ipython2",
   "version": "2.7.13"
  }
 },
 "nbformat": 4,
 "nbformat_minor": 2
}
