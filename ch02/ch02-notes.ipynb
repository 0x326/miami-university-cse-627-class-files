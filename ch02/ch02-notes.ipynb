{
 "cells": [
  {
   "cell_type": "markdown",
   "metadata": {},
   "source": [
    "# Pattern Recognition and Machine Learning\n",
    "# Chapter 2: Probabilitye Distributions"
   ]
  },
  {
   "cell_type": "markdown",
   "metadata": {},
   "source": [
    "## Probability Distributions: General\n",
    "* **Density Estimation:** given a finite set $\\mathbf{x}_1, \\dots, \\mathbf{x}_N$ of observations, find the distribution $p(\\mathbf{x})$ of $\\mathbf{x}$.\n",
    "  * **Parametric Distributions:** Many usful representations of $p(\\mathbf{x})$ depend on some paramters $\\theta$, e.g. for a _normal_ distribution $\\theta=(\\mu, \\sigma^2)$\n",
    "  * **Frequentist's Way:** choose specific parameter $\\theta^*$ values by optimizing some criterion (e.g. likelihood)\n",
    "  * **Bayesian Way:** use a prior distribution over parameters, computer posteriors with Bayes' rule \n",
    "    (integrate over all parameters)\n",
    "\n",
    "> **NOTE:** The same applies to estimating conditional distributions, $p(\\mathbf{t} | \\mathbf{x})$ and joint distributins $p(\\mathbf{t}, \\mathbf{x})$. \n",
    "\n",
    "* **Conjugate Prior:** leads to a posterior distribution of the same functional form as the prior, which makes life easier. "
   ]
  },
  {
   "cell_type": "markdown",
   "metadata": {},
   "source": [
    "## Binary Variable: Frequentist's Way\n",
    "\n",
    "> **NOTE:** Binary variables are an example of a _discrete_ variable, such as the output of a _classifier_. Understanding how to deal with uncertainty on discrete variables like this will help us to evaluate classification algorithms\n",
    "\n",
    "Geiven a binary random variable $x \\in \\{0,1\\}$ (e.g. tossing a coin) with \n",
    "\n",
    "$$ p(x=1 | \\mu) = \\mu, \\hspace{3em}  p(x=0 | \\mu) = 1-\\mu.  \\hspace{3em} (2.1)$$\n",
    "\n"
   ]
  },
  {
   "cell_type": "markdown",
   "metadata": {},
   "source": [
    "$p(x)$ can be described by the _Bernoulli dstribuion:_\n",
    "$$\\begin{align}\n",
    "\\text{Bern}(x|\\mu) &= \\mu^x (1-\\mu)^{1-x}. & (2.2)\n",
    "\\end{align}$$ "
   ]
  },
  {
   "cell_type": "markdown",
   "metadata": {},
   "source": [
    "> **NOTE:** Recall $x$ is discrete, so $\\text{Bern}(x|\\mu)$ is either $\\mu$ or $(1-\\mu)$, expressing it used an exponential form is mathematically convenient and it will come back to help us later. "
   ]
  },
  {
   "cell_type": "markdown",
   "metadata": {},
   "source": [
    "The _maximum likelihood_ estimate for $\\mu$ is:\n",
    "$$\\begin{align}\n",
    "\\mu^{ML} &= \\frac{m}{N}  \\text{  with  }  m=(\\text{ #observations of } x = 1) &(2.8)\n",
    "\\end{align}$$ "
   ]
  },
  {
   "cell_type": "markdown",
   "metadata": {},
   "source": [
    "> **NOTE:**\n",
    "> * I derived this on the whiteboard in class, by solving $$\\frac{\\partial}{\\partial \\mu} \\ln \\left\\{ \\prod_{n=1}^N \\text{Bern}(x_n|\\mu) \\right\\}=0,$$ using algebra, logarithmic properties, and the chain rule from calculus. \n",
    "> * Maximizing $\\ln p(\\mathbf{x})$, or mimimizing $-\\ln p(\\mathbf{x})$, is a useful trick, because it is easier to deal with sums than products when, e.g. calculating the gradient."
   ]
  },
  {
   "cell_type": "markdown",
   "metadata": {},
   "source": [
    "This can lead to overfitting, especially for small $N$, e.g. $N=m=3$ yields $\\mu^{ML}=1$.\n",
    "\n",
    "That would mean that a fair coin ($\\mu=0.5$) has a $12.5\\%$ chance of $m=3$ causing us to beleive that the coin will land head $100\\%$ of the time. "
   ]
  },
  {
   "cell_type": "code",
   "execution_count": 9,
   "metadata": {
    "collapsed": false
   },
   "outputs": [
    {
     "data": {
      "image/jpeg": "[encoded data removed]",
      "text/html": [
       "\n",
       "        <iframe\n",
       "            width=\"400\"\n",
       "            height=\"300\"\n",
       "            src=\"https://www.youtube.com/embed/gOwLEVQGbrM\"\n",
       "            frameborder=\"0\"\n",
       "            allowfullscreen\n",
       "        ></iframe>\n",
       "        "
      ],
      "text/plain": [
       "<IPython.lib.display.YouTubeVideo at 0x7f0df2555c90>"
      ]
     },
     "execution_count": 9,
     "metadata": {},
     "output_type": "execute_result"
    }
   ],
   "source": [
    "from IPython.display import YouTubeVideo\n",
    "YouTubeVideo('gOwLEVQGbrM')"
   ]
  },
  {
   "cell_type": "markdown",
   "metadata": {},
   "source": [
    "# Binary Variables: Bayesian Way (1), The _Likelihood_"
   ]
  },
  {
   "cell_type": "markdown",
   "metadata": {},
   "source": [
    "Before going further with a _bayesian_ treatment, we would like to simplify the likelihood function $p(\\mathbf{x}|\\mu)$. It helps to simplify things by noting that $\\mathbf{x}$  has $m$ heads and $N-m$ tails. The probability of seeing $m$ heads is a _binomial_ distribution."
   ]
  },
  {
   "cell_type": "markdown",
   "metadata": {},
   "source": [
    "The _binomial distribution_ describes the number $m$ of observations of $x=1$ out of a data set of size $N$:\n",
    "\n",
    "$$\n",
    "\\begin{align}\n",
    "\\text{Bin}(m|N, \\mu) &= {N\\choose{m}} \\mu^m (1-\\mu)^{N-m} & (2.9)\\\\\n",
    "{{N}\\choose{m}} &= \\frac{N!}{(N-m)!m!} & (2.10)\n",
    "\\end{align}\n",
    "$$"
   ]
  },
  {
   "cell_type": "markdown",
   "metadata": {},
   "source": [
    "Some explanation:\n",
    "* For any _specific_ set $\\mathbf{x}$ of $m$ heads and $N-m$ tails, the likelihood $p(\\mathbf{x}|\\mu)=\\mu^m (1-\\mu)^{(N-m)}$. There are '$N$ _choose_ $m$', or $N\\choose{m}$ different inputs $\\mathbf{x}$ with $m$ heads, so we add them all together to get $\\text{Bin}(m|N,\\mu)$. "
   ]
  },
  {
   "cell_type": "markdown",
   "metadata": {},
   "source": [
    "In __python__, we can use the [scipy.stats.binom](https://docs.scipy.org/doc/scipy/reference/generated/scipy.stats.binom.html) object to  explore the binomial distribution"
   ]
  },
  {
   "cell_type": "code",
   "execution_count": 37,
   "metadata": {
    "collapsed": false
   },
   "outputs": [
    {
     "name": "stdout",
     "output_type": "stream",
     "text": [
      "The odds of 3 heads is: 12.5%\n"
     ]
    }
   ],
   "source": [
    "from scipy.stats import binom\n",
    "print \"The odds of 3 heads is: {:0.1%}\".format(binom.pmf(3, n=3,p=0.5))"
   ]
  },
  {
   "cell_type": "markdown",
   "metadata": {},
   "source": [
    "Some explanation:\n",
    "* The `binom` object provides a number of methods and properties that describe the binomial distribution. \n",
    "* The `pmf`, or ___probability mass function___ is the a term for a _discrete_ probability function $p(\\cdot)$\n",
    "* The parameters `n` and `p` correspond to $N$ and $\\mu$ in our book. "
   ]
  },
  {
   "cell_type": "markdown",
   "metadata": {},
   "source": [
    "> **NOTE:** The design of the `binom` object may seem overwhelming, especially if you are not used to object oriented programming -- it defines a number of methods common to _all_ discrete probability distributions in scipy. Just focus on the part of the interface that we want for now (the probability mass function)"
   ]
  },
  {
   "cell_type": "markdown",
   "metadata": {
    "collapsed": true
   },
   "source": [
    "The _binomial_ distribution is a discrete probability function (I mean $m$ takes on discrete values) so let's plot it as a bar chart in python:\n",
    "> **NOTE:** It would be horribly wrong to use regular plot (lines) to visualize this!"
   ]
  },
  {
   "cell_type": "code",
   "execution_count": 2,
   "metadata": {
    "collapsed": false
   },
   "outputs": [
    {
     "name": "stdout",
     "output_type": "stream",
     "text": [
      "Populating the interactive namespace from numpy and matplotlib\n"
     ]
    }
   ],
   "source": [
    "%pylab inline"
   ]
  },
  {
   "cell_type": "code",
   "execution_count": 38,
   "metadata": {
    "collapsed": false
   },
   "outputs": [
    {
     "data": {
      "image/png": "[encoded data removed]",
      "text/plain": [
       "<matplotlib.figure.Figure at 0x7f6c333e1990>"
      ]
     },
     "metadata": {},
     "output_type": "display_data"
    }
   ],
   "source": [
    "N = 10\n",
    "mu = 0.5\n",
    "bar(range(N), [binom.pmf(m, n=N, p=mu) for m in range(N)], )\n",
    "xticks(range(N))\n",
    "xlabel('$m$')\n",
    "ylabel('$p(m)$')\n",
    "title('Bin$(m|N={}, mu={})$'.format(N,mu));"
   ]
  },
  {
   "cell_type": "markdown",
   "metadata": {},
   "source": [
    "Consider playing with different values of $N$ and $\\mu$ above; notice that with $\\mu=0.5$, the binomial distribution is a discrete and finite approximation to a normal distribution... is that true for other values of $\\mu$?"
   ]
  },
  {
   "cell_type": "markdown",
   "metadata": {
    "collapsed": true
   },
   "source": [
    "## Binary Variables: Bayesian Way (2), The _Prior_"
   ]
  },
  {
   "cell_type": "markdown",
   "metadata": {},
   "source": [
    "For a Bayesian treatment, we need to model the _prior_ distribution $p(\\mu)$. It is convenient to model the prior distribution so that it is similar to the posterior (often also the likelihood). This is called a ___conjugate prior___\n",
    "\n",
    "> **NOTE:** One benefit of this is that your old posterior can become a prior whenever you observe new data, leading to an __incremental__ estimate. "
   ]
  },
  {
   "cell_type": "markdown",
   "metadata": {},
   "source": [
    "The _Bernoulli_ distribution has the form $\\mu^x(1-\\mu)^{1-x}$, so we want a prior distribution that takes on the same structure.  Because it will make future notation easier, let's assume that $$p(\\mu|a, b) \\propto \\mu^{a-1}(1-\\mu)^{b-1}$$ "
   ]
  },
  {
   "cell_type": "markdown",
   "metadata": {},
   "source": [
    "I was lazy and used the `propto` ($\\propto$) symbol above instead of finding the actual probability (which must integrate to one). It may be useful to determine the normalization constant in the formula above, which is problem 2.5 of your textbook. "
   ]
  },
  {
   "cell_type": "markdown",
   "metadata": {},
   "source": [
    "If you do that problem (a hint is on the web, and you will need to use the _gamma_ function), you will prove that \n",
    "$$ p(\\mu | a, b) = \\text{Beta}(\\mu|a,b) = \\frac{\\Gamma(a+b)}{\\Gamma(a)\\Gamma(b)} \\mu^{a-1}(1-\\mu)^{b-1},$$\n",
    "which is the _beta_ distribution, and $\\Gamma(x)$ is the _gamma_ function,  a continous version of the factorial function, so that $\\Gamma(x)=(x-1)!$ when $x$ is a positive integer. \n",
    "\n",
    "$$ \\Gamma(x) \\equiv \\int_{0}^{\\infty} u^{x-1}e^{-u} du $$"
   ]
  },
  {
   "cell_type": "markdown",
   "metadata": {
    "collapsed": true
   },
   "source": [
    "The _mean_ and variance of the _Beta_ distributuion are: \n",
    "\n",
    "$$ \n",
    "\\begin{array}\n",
    "\\mathbb{E}[\\mu] &= \\frac{a}{a+b}\\\\\n",
    "\\text{var}[\\mu] &= \\frac{ab}{(a+b)^2(a+b+1)}\\\\\n",
    "\\text{mode}[\\mu] &= \\frac{a-1}{a+b-2}  & \\text{(similar to }\\frac{m}{N}\\text{)}\n",
    "\\end{array} \n",
    "$$"
   ]
  },
  {
   "cell_type": "markdown",
   "metadata": {},
   "source": [
    "> **NOTE:** I, for one, was struck by how similar the __Beta__ and __Binomial__ distributions are, with the notion that $\\Gamma$ is similar to a factoral. It seems like the __Beta__ disribution is (approximately) a reparametrized and continous binomial. "
   ]
  },
  {
   "cell_type": "markdown",
   "metadata": {},
   "source": [
    "Let's us **python** to explore the _Gamma_ function and _Beta_ distribution.  "
   ]
  },
  {
   "cell_type": "markdown",
   "metadata": {},
   "source": [
    "Below, I compare the _Gamma_ function to the _factorial_ function"
   ]
  },
  {
   "cell_type": "code",
   "execution_count": 13,
   "metadata": {
    "collapsed": false
   },
   "outputs": [
    {
     "data": {
      "image/png": "[encoded data removed]",
      "text/plain": [
       "<matplotlib.figure.Figure at 0x7f0df22c0c10>"
      ]
     },
     "metadata": {},
     "output_type": "display_data"
    }
   ],
   "source": [
    "from math import gamma,factorial\n",
    "\n",
    "x = linspace(1, 6, 100)\n",
    "plot(x, [gamma(x_) for x_ in x], label='$\\Gamma(x)$', color='blue')\n",
    "\n",
    "scatter(range(1, 7), [factorial(x_-1) for x_ in range(1,7)], color='green', label='$(x-1)!$')\n",
    "vlines(range(1, 7), 0, [factorial(x_-1) for x_ in range(1,7)], color='green')\n",
    "legend();"
   ]
  },
  {
   "cell_type": "markdown",
   "metadata": {},
   "source": [
    "Some explanation:\n",
    "* The `gamma` and `factorial` functions are in the `math` module, I import them on line 1. \n",
    "* I use a _list comprehension_ on line 4 in order to generate $y$ values for each $x$ in the plot of a blue curve. \n",
    "* I also use a trailing underscore to avoid name colision of my temporary variable `x_` and the list `x` of $x$ values. \n",
    "* I assign a labels to the plot in line 4, and the scatter-plot in line 6. This allows me to display a legend  (line 8). \n",
    "* Line 7 drops plumb-lines so you can see that the factorial is evaliated at the integers only."
   ]
  },
  {
   "cell_type": "markdown",
   "metadata": {},
   "source": [
    "Now, let's explore the beta distribution and compare it to the binomial distribution. \n",
    "Notice that the seem very similer, if you re-scale the binomial distribution to be in the $[0,1]$ interval. \n",
    "Also because the beta distribution is over $\\mu$ is is a true(continuouse) probability densitiy function (PDF)wheras the binomial is discrete, and I plot it that way. "
   ]
  },
  {
   "cell_type": "code",
   "execution_count": 109,
   "metadata": {
    "collapsed": false
   },
   "outputs": [
    {
     "data": {
      "image/png": "[encoded data removed]",
      "text/plain": [
       "<matplotlib.figure.Figure at 0x7f0ded330750>"
      ]
     },
     "metadata": {},
     "output_type": "display_data"
    }
   ],
   "source": [
    "from scipy.stats import beta\n",
    "\n",
    "x= linspace(0,1,100)\n",
    "\n",
    "a = 5\n",
    "b = 8\n",
    "plot(x, [beta.pdf(x_, a, b) for x_ in x])\n",
    "xlabel(r'$\\mu$')\n",
    "ylabel(r'$p(\\mu|a, b)$')\n",
    "\n",
    "twiny().set_xlabel(r'$m$')\n",
    "twinx().set_ylabel(r'$p(m|N, \\mu)$')\n",
    "\n",
    "n= float(a+b)\n",
    "step(arange(a+b+1), [binom.pmf(x_, n, p=a/n) for x_ in arange(a+b+1)], where='mid', color='green');\n",
    "\n",
    "show()"
   ]
  },
  {
   "cell_type": "markdown",
   "metadata": {},
   "source": [
    "Some explanation:\n",
    "* The `beta` distribution is an _object_ in the `scipy.stats` module. It is a type of _continous distribution_, and so it has a method `pdf`\n",
    "* The `beta` distribution has two parameters that control the shape, `a` and `b` (they match our text).\n",
    "* Since I want to play with different values, I define variables (lines 5 and 6) for `a` and `b`\n",
    "* I want to compare $\\text{Beta}$ and $\\text{Bin}$, but their horizontal and vertical axes have different scales, so I use `twinx()` ans `twiny()` to inddicate the the axes on the opposite sides of the plot. \n",
    "* The `step` function plots a curve as horizontal and vertical lines, I am using it to indicate that $\\text{Bin}$ is discrete. \n",
    " * The `where='mid'` argument makes shure the 'step' is halfway betwean each point\n",
    " * The `arange` function behaves exactly like `range` except that it returns a numpy array instead of a list. "
   ]
  },
  {
   "cell_type": "code",
   "execution_count": null,
   "metadata": {
    "collapsed": true
   },
   "outputs": [],
   "source": []
  }
 ],
 "metadata": {
  "kernelspec": {
   "display_name": "Python 2",
   "language": "python",
   "name": "python2"
  },
  "language_info": {
   "codemirror_mode": {
    "name": "ipython",
    "version": 2
   },
   "file_extension": ".py",
   "mimetype": "text/x-python",
   "name": "python",
   "nbconvert_exporter": "python",
   "pygments_lexer": "ipython2",
   "version": "2.7.13"
  }
 },
 "nbformat": 4,
 "nbformat_minor": 2
}
